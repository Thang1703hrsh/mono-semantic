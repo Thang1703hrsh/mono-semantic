{
 "cells": [
  {
   "cell_type": "code",
   "execution_count": 42,
   "metadata": {},
   "outputs": [],
   "source": [
    "import os\n",
    "import torch\n",
    "import csv\n",
    "\n",
    "from pathlib import Path\n",
    "import io\n",
    "import lmdb\n",
    "import pickle\n",
    "import numpy as np\n",
    "import matplotlib.pyplot as plt\n",
    "from torch.utils.data import DataLoader\n",
    "from PIL import Image\n",
    "import numpy as np\n",
    "from torch.utils.data import Dataset\n",
    "from torchvision.transforms.functional import to_tensor, to_pil_image\n",
    "import torch.nn.functional as F\n",
    "\n",
    "from nuscenes.nuscenes import NuScenes\n",
    "from nuscenes.utils.geometry_utils import (\n",
    "    view_points,\n",
    "    box_in_image,\n",
    "    BoxVisibility,\n",
    "    transform_matrix,\n",
    ")\n",
    "from nuscenes.map_expansion.map_api import NuScenesMap, NuScenesMapExplorer\n",
    "from nuscenes.utils.data_classes import LidarPointCloud\n",
    "\n"
   ]
  },
  {
   "cell_type": "code",
   "execution_count": 43,
   "metadata": {},
   "outputs": [
    {
     "data": {
      "text/plain": [
       "<nuscenes.nuscenes.NuScenes at 0x2894849b940>"
      ]
     },
     "execution_count": 43,
     "metadata": {},
     "output_type": "execute_result"
    }
   ],
   "source": [
    "root=os.path.join(\"nuscenes_data\")\n",
    "nusc = NuScenes(version=\"v1.0-mini\",\n",
    "    dataroot=root,\n",
    "    verbose=False)\n",
    "nusc"
   ]
  },
  {
   "cell_type": "code",
   "execution_count": null,
   "metadata": {},
   "outputs": [],
   "source": [
    "def read_split(filename):\n",
    "    \"\"\"\n",
    "    Read a list of NuScenes sample tokens\n",
    "    \"\"\"\n",
    "    with open(filename, \"r\") as f:\n",
    "        lines = f.read().split(\"\\n\")\n",
    "        return [val for val in lines if val != \"\"]\n"
   ]
  },
  {
   "cell_type": "code",
   "execution_count": null,
   "metadata": {},
   "outputs": [],
   "source": [
    "tokens = read_split(\n",
    "    os.path.join(root, \"splits\", \"{}.txt\".format(\"train_full\"))\n",
    ")\n"
   ]
  },
  {
   "cell_type": "code",
   "execution_count": null,
   "metadata": {},
   "outputs": [],
   "source": [
    "root"
   ]
  },
  {
   "cell_type": "code",
   "execution_count": 44,
   "metadata": {},
   "outputs": [
    {
     "data": {
      "text/plain": [
       "'nuscenes_data\\\\lmdb\\\\samples'"
      ]
     },
     "execution_count": 44,
     "metadata": {},
     "output_type": "execute_result"
    }
   ],
   "source": [
    "images_db_path = os.path.join(\n",
    "            root, \"lmdb\",\n",
    "            \"samples\"\n",
    "        )\n",
    "images_db_path"
   ]
  },
  {
   "cell_type": "code",
   "execution_count": 45,
   "metadata": {},
   "outputs": [
    {
     "data": {
      "text/plain": [
       "<Environment at 0x28b1405c630>"
      ]
     },
     "execution_count": 45,
     "metadata": {},
     "output_type": "execute_result"
    }
   ],
   "source": [
    "images_db = lmdb.open(\n",
    "    path=images_db_path,\n",
    "    readonly=True,\n",
    "    readahead=False,\n",
    "    max_spare_txns=128,\n",
    "    lock=False,\n",
    ")\n",
    "\n",
    "images_db\n"
   ]
  },
  {
   "cell_type": "code",
   "execution_count": 107,
   "metadata": {},
   "outputs": [
    {
     "data": {
      "text/plain": [
       "b'\\x80\\x03X:\\x00\\x00\\x00n008-2018-08-27-11-48-51-0400__CAM_FRONT__1535385111912404q\\x00.'"
      ]
     },
     "execution_count": 107,
     "metadata": {},
     "output_type": "execute_result"
    }
   ],
   "source": [
    "sample_token = '35833ae5808e4ef186d1fdebac3d9cf6'\n",
    "sample_record = nusc.get(\"sample\", sample_token)\n",
    "cam_token = sample_record[\"data\"][\"CAM_FRONT\"]\n",
    "cam_record = nusc.get(\"sample_data\", cam_token)\n",
    "cam_path = nusc.get_sample_data_path(cam_token)\n",
    "id = Path(cam_path).stem\n",
    "# Load intrinsincs\n",
    "calib = nusc.get(\n",
    "    \"calibrated_sensor\", cam_record[\"calibrated_sensor_token\"]\n",
    ")[\"camera_intrinsic\"]\n",
    "calib = np.array(calib)\n",
    "\n",
    "# Load input images\n",
    "\n",
    "image_input_key = pickle.dumps(id ,protocol=3)\n",
    "image_input_key"
   ]
  },
  {
   "cell_type": "code",
   "execution_count": 108,
   "metadata": {},
   "outputs": [],
   "source": [
    "with images_db.begin() as txn:\n",
    "    value = txn.get(key=image_input_key)\n",
    "    image = Image.open(io.BytesIO(value)).convert(mode='RGB')\n",
    "    "
   ]
  },
  {
   "cell_type": "code",
   "execution_count": 109,
   "metadata": {},
   "outputs": [],
   "source": [
    "image.show()"
   ]
  },
  {
   "cell_type": "code",
   "execution_count": null,
   "metadata": {},
   "outputs": [],
   "source": []
  },
  {
   "cell_type": "code",
   "execution_count": 94,
   "metadata": {},
   "outputs": [
    {
     "data": {
      "text/plain": [
       "['data.mdb', 'fov_mask.png', 'lock.mdb']"
      ]
     },
     "execution_count": 94,
     "metadata": {},
     "output_type": "execute_result"
    }
   ],
   "source": [
    "gtmaps_db_path = os.path.join(\n",
    "            root, \"semantic_maps_new_200x200\",\n",
    ")\n",
    "\n",
    "gtmaps_db_path\n",
    "\n",
    "lst = os.listdir(gtmaps_db_path) # your directory path\n",
    "lst\n"
   ]
  },
  {
   "cell_type": "code",
   "execution_count": 95,
   "metadata": {},
   "outputs": [
    {
     "data": {
      "text/plain": [
       "<Environment at 0x28b1405cf90>"
      ]
     },
     "execution_count": 95,
     "metadata": {},
     "output_type": "execute_result"
    }
   ],
   "source": [
    "gtmaps_db = lmdb.open(\n",
    "            path=gtmaps_db_path,\n",
    "            readonly=True,\n",
    "            readahead=False,\n",
    "            max_spare_txns=128,\n",
    "            lock=False,\n",
    "        )\n",
    "\n",
    "gtmaps_db"
   ]
  },
  {
   "cell_type": "code",
   "execution_count": 96,
   "metadata": {},
   "outputs": [
    {
     "data": {
      "text/plain": [
       "17"
      ]
     },
     "execution_count": 96,
     "metadata": {},
     "output_type": "execute_result"
    }
   ],
   "source": [
    "classes = [\n",
    "            \"drivable_area\",\n",
    "            \"ped_crossing\",\n",
    "            \"walkway\",\n",
    "            \"carpark_area\",\n",
    "            \"road_segment\",\n",
    "            \"lane\",\n",
    "            \"bus\",\n",
    "            \"bicycle\",\n",
    "            \"car\",\n",
    "            \"construction_vehicle\",\n",
    "            \"motorcycle\",\n",
    "            \"trailer\",\n",
    "            \"truck\",\n",
    "            \"pedestrian\",\n",
    "            \"trafficcone\",\n",
    "            \"barrier\",\n",
    "        ] + ['lidar_ray_mask_dense']\n",
    "len(classes)"
   ]
  },
  {
   "cell_type": "code",
   "execution_count": 97,
   "metadata": {},
   "outputs": [],
   "source": [
    "fov_mask = to_tensor(Image.open(\n",
    "            os.path.join(root, \"semantic_maps_new_200x200\", \"fov_mask.png\")\n",
    "        ))"
   ]
  },
  {
   "cell_type": "code",
   "execution_count": 98,
   "metadata": {},
   "outputs": [],
   "source": [
    "# i=0\n",
    "# cam_id = token_cam_id_map[tokens[i]]\n",
    "# cam_id"
   ]
  },
  {
   "cell_type": "code",
   "execution_count": 99,
   "metadata": {},
   "outputs": [],
   "source": [
    "def merge_map_classes(mapsdict):\n",
    "    classes_to_merge = [\"drivable_area\", \"road_segment\", \"lane\"]\n",
    "    merged_class = 'drivable_area'\n",
    "    maps2merge = torch.stack([mapsdict[k] for k in classes_to_merge])  # [n, 1, 200, 200]\n",
    "    maps2merge = maps2merge.sum(dim=0)\n",
    "    maps2merge = (maps2merge > 0).float()\n",
    "    mapsdict[merged_class] = maps2merge\n",
    "    del mapsdict['road_segment'], mapsdict['lane']\n",
    "    return mapsdict"
   ]
  },
  {
   "cell_type": "code",
   "execution_count": 80,
   "metadata": {},
   "outputs": [],
   "source": [
    "def get_ground_truth_pixel_count(cam_id):\n",
    "    \n",
    "    gtmaps_key = [pickle.dumps(\"{}___{}\".format(cam_id, cls), 3) for cls in classes]\n",
    "    with gtmaps_db.begin() as txn:\n",
    "        value = [txn.get(key=key) for key in gtmaps_key]\n",
    "        gtmaps = [Image.open(io.BytesIO(im)) for im in value]\n",
    "    \n",
    "    # each map is of shape [1, 200, 200]\n",
    "    mapsdict = {cls: to_tensor(map) for cls, map in zip(classes, gtmaps)}\n",
    "    # mapsdict[\"fov_mask\"] = to_tensor(fov_mask)\n",
    "    mapsdict = merge_map_classes(mapsdict)\n",
    "\n",
    "    # Create visbility mask from lidar and fov masks\n",
    "    lidar_ray_mask = mapsdict['lidar_ray_mask_dense']\n",
    "    # fov_mask = mapsdict['fov_mask']\n",
    "    vis_mask = lidar_ray_mask * fov_mask\n",
    "    mapsdict['vis_mask'] = vis_mask\n",
    "\n",
    "    del mapsdict['lidar_ray_mask_dense']#, mapsdict['fov_mask']\n",
    "    # apply vis mask to maps\n",
    "    mapsdict = {\n",
    "        cls: cls_map * mapsdict['vis_mask'] for cls, cls_map in mapsdict.items()\n",
    "    }\n",
    "    \n",
    "    # del mapsdict['vis_mask']\n",
    "    \n",
    "    return {cls: cls_map.numpy().sum() for cls, cls_map in mapsdict.items()}"
   ]
  },
  {
   "cell_type": "code",
   "execution_count": 115,
   "metadata": {},
   "outputs": [
    {
     "data": {
      "text/plain": [
       "(200, 200)"
      ]
     },
     "execution_count": 115,
     "metadata": {},
     "output_type": "execute_result"
    }
   ],
   "source": [
    "gtmaps_key = [pickle.dumps(\"{}___{}\".format(id, cls), 3) for cls in classes]\n",
    "with gtmaps_db.begin() as txn:\n",
    "    value = [txn.get(key=key) for key in gtmaps_key]\n",
    "    gtmaps = Image.open(io.BytesIO(value[2]))\n",
    "\n",
    "gtmaps.size"
   ]
  },
  {
   "cell_type": "code",
   "execution_count": null,
   "metadata": {},
   "outputs": [],
   "source": [
    "with images_db.begin() as txn:\n",
    "    value = txn.get(key=image_input_key)\n",
    "    image = Image.open(io.BytesIO(value)).convert(mode='RGB')\n",
    "    "
   ]
  },
  {
   "cell_type": "code",
   "execution_count": 81,
   "metadata": {},
   "outputs": [
    {
     "data": {
      "text/plain": [
       "{'drivable_area': 10417.0,\n",
       " 'ped_crossing': 1492.0,\n",
       " 'walkway': 4683.0,\n",
       " 'carpark_area': 933.0,\n",
       " 'bus': 0.0,\n",
       " 'bicycle': 0.0,\n",
       " 'car': 564.0,\n",
       " 'construction_vehicle': 0.0,\n",
       " 'motorcycle': 0.0,\n",
       " 'trailer': 0.0,\n",
       " 'truck': 0.0,\n",
       " 'pedestrian': 180.0,\n",
       " 'trafficcone': 0.0,\n",
       " 'barrier': 0.0,\n",
       " 'vis_mask': 16107.0}"
      ]
     },
     "execution_count": 81,
     "metadata": {},
     "output_type": "execute_result"
    }
   ],
   "source": [
    "get_ground_truth_pixel_count(id)\n"
   ]
  },
  {
   "cell_type": "code",
   "execution_count": 82,
   "metadata": {},
   "outputs": [
    {
     "ename": "NameError",
     "evalue": "name 'tokens' is not defined",
     "output_type": "error",
     "traceback": [
      "\u001b[1;31m---------------------------------------------------------------------------\u001b[0m",
      "\u001b[1;31mNameError\u001b[0m                                 Traceback (most recent call last)",
      "\u001b[1;32m~\\AppData\\Local\\Temp\\ipykernel_12364\\3978167013.py\u001b[0m in \u001b[0;36m<module>\u001b[1;34m\u001b[0m\n\u001b[1;32m----> 1\u001b[1;33m \u001b[0mtrain_pixel_counts\u001b[0m \u001b[1;33m=\u001b[0m \u001b[1;33m{\u001b[0m\u001b[0mtoken\u001b[0m\u001b[1;33m:\u001b[0m \u001b[0mget_ground_truth_pixel_count\u001b[0m\u001b[1;33m(\u001b[0m\u001b[0mtoken_cam_id_map\u001b[0m\u001b[1;33m[\u001b[0m\u001b[0mtoken\u001b[0m\u001b[1;33m]\u001b[0m\u001b[1;33m)\u001b[0m \u001b[1;32mfor\u001b[0m \u001b[0mtoken\u001b[0m \u001b[1;32min\u001b[0m \u001b[0mtokens\u001b[0m\u001b[1;33m}\u001b[0m\u001b[1;33m\u001b[0m\u001b[1;33m\u001b[0m\u001b[0m\n\u001b[0m",
      "\u001b[1;31mNameError\u001b[0m: name 'tokens' is not defined"
     ]
    }
   ],
   "source": [
    "train_pixel_counts = {token: get_ground_truth_pixel_count(token_cam_id_map[token]) for token in tokens}\n"
   ]
  },
  {
   "cell_type": "code",
   "execution_count": null,
   "metadata": {},
   "outputs": [],
   "source": []
  },
  {
   "cell_type": "code",
   "execution_count": null,
   "metadata": {},
   "outputs": [],
   "source": []
  },
  {
   "cell_type": "code",
   "execution_count": null,
   "metadata": {},
   "outputs": [],
   "source": []
  },
  {
   "cell_type": "code",
   "execution_count": 37,
   "metadata": {},
   "outputs": [],
   "source": [
    "sample_token = 'e0845f5322254dafadbbed75aaa07969'\n",
    "sample_record = nusc.get(\"sample\", sample_token)\n",
    "cam_token = sample_record[\"data\"][\"CAM_FRONT\"]\n",
    "cam_record = nusc.get(\"sample_data\", cam_token)\n",
    "cam_path = nusc.get_sample_data_path(cam_token)\n",
    "id = Path(cam_path).stem\n",
    "image_input_key = pickle.dumps(id ,protocol=3)\n",
    "with images_db.begin() as txn:\n",
    "    value = txn.get(key=image_input_key)\n",
    "    image = Image.open(io.BytesIO(value)).convert(mode='RGB')\n",
    "\n",
    "image.show()"
   ]
  },
  {
   "cell_type": "code",
   "execution_count": null,
   "metadata": {},
   "outputs": [],
   "source": []
  },
  {
   "cell_type": "code",
   "execution_count": 21,
   "metadata": {},
   "outputs": [
    {
     "data": {
      "text/plain": [
       "(1600, 900)"
      ]
     },
     "execution_count": 21,
     "metadata": {},
     "output_type": "execute_result"
    }
   ],
   "source": [
    "original_nusenes_dir = Path.resolve(Path('C:/Users/Admin/Desktop/translating-images-into-maps/nuscenes_data/lmdb/samples_full/CAM_FRONT/n008-2018-05-21-11-06-59-0400__CAM_FRONT__1526915246012465.jpg'))\n",
    "image = Image.open(original_nusenes_dir).convert(mode='RGB')\n",
    "image.show()\n",
    "\n",
    "image.size"
   ]
  },
  {
   "cell_type": "code",
   "execution_count": 22,
   "metadata": {},
   "outputs": [
    {
     "name": "stdout",
     "output_type": "stream",
     "text": [
      "torch.Size([3, 270, 480])\n"
     ]
    }
   ],
   "source": [
    "og_w, og_h = 1600, 900\n",
    "desired_image_size=(480, 270)\n",
    "\n",
    "desired_w, desired_h = desired_image_size\n",
    "\n",
    "scale_w, scale_h = desired_w / og_w, desired_h / og_h\n",
    "\n",
    "b = image.resize((int(image.size[0] * scale_w), int(image.size[1] * scale_h)))\n",
    "a = to_tensor(b)\n",
    "print(a.shape)\n"
   ]
  },
  {
   "cell_type": "code",
   "execution_count": null,
   "metadata": {},
   "outputs": [],
   "source": [
    "from difflib import SequenceMatcher\n",
    "\n",
    "SequenceMatcher(None, 'samples/CAM_TOP/n008-2018-08-01-15-16-36-0400__CAM_TOP__1533151621412404.jpg', \"samples/CAM_FRONT/\").ratio()"
   ]
  },
  {
   "attachments": {},
   "cell_type": "markdown",
   "metadata": {},
   "source": []
  },
  {
   "cell_type": "code",
   "execution_count": 11,
   "metadata": {},
   "outputs": [
    {
     "data": {
      "text/plain": [
       "['data.mdb', 'lock.mdb']"
      ]
     },
     "execution_count": 11,
     "metadata": {},
     "output_type": "execute_result"
    }
   ],
   "source": [
    "gtmaps_db_path = os.path.join(\n",
    "            root, \"semantic_maps_new_200x200\",\n",
    ")\n",
    "\n",
    "gtmaps_db_path\n",
    "\n",
    "lst = os.listdir(gtmaps_db_path) # your directory path\n",
    "lst\n"
   ]
  },
  {
   "cell_type": "code",
   "execution_count": 12,
   "metadata": {},
   "outputs": [
    {
     "data": {
      "text/plain": [
       "<Environment at 0x2892d762ab0>"
      ]
     },
     "execution_count": 12,
     "metadata": {},
     "output_type": "execute_result"
    }
   ],
   "source": [
    "gtmaps_db = lmdb.open(\n",
    "            path=gtmaps_db_path,\n",
    "            readonly=True,\n",
    "            readahead=False,\n",
    "            max_spare_txns=128,\n",
    "            lock=False,\n",
    "        )\n",
    "\n",
    "gtmaps_db"
   ]
  },
  {
   "cell_type": "code",
   "execution_count": 27,
   "metadata": {},
   "outputs": [
    {
     "name": "stdout",
     "output_type": "stream",
     "text": [
      "[None, b'\\x89PNG\\r\\n\\x1a\\n\\x00\\x00\\x00\\rIHDR\\x00\\x00\\x00\\xc8\\x00\\x00\\x00\\xc8\\x08\\x00\\x00\\x00\\x00\\x883\\xf1B\\x00\\x00\\x08\\xebIDATx\\x9c\\xed]\\xdb\\xb6\\xe4*\\x08\\x94\\xfe\\xff\\x7ff?D\\r\\x08x\\xc5\\xe8\\xc3f\\xcd\\x99N\\xd2F)\\xabP4\\x99>!|`\\x18p{\\x1b\\xb0\\xbd\\x85\\x10\\xf0\\x8bf~\\xdb[\\xf8\\xc8>\\x00\\x82\\xf1\\xbf\\xbd\\xb6\\x1f\\x08\\x92\\xbf7\\xda\\xbf\\xb4z\\r\\x8b\\xcf]\\xb6\\x1b\\x08*G[\\xec_Z}\\x86\\xc6\\xb1\\xbf\\xed\\x05\\xb2\\x7f\\xd4\\xcd\\xf6\\xa5\\xb4\\xb6\\xc2\\xda\\n\\xa4\\xf4|\\'\\x92\\x9d@>\\x14\\xd6\\xd7\\xa3\\xd6Fh\\x1b\\x81|J\\xc8\\xd7\\xf3\\xc8>p\\xfb\\x80\\xe8>oC\\xb2\\r\\xc8\\xb7\\xc2:\\x90\\xa2\\xec\\x02\\xb8\\x0b\\x88\\xed\\xef&$\\xffIc\\xddj\\xdd\\xbe\\x87\\x92\\x7fF\\xaaV\\xef\\xf4-\\x94\\x1cad\\x07\\x92-@\\xbe\\x9eCB\\xd8\\x03\\xa4\\x8dc\\x03\\xd2C\\xc1\\xee\\x8fd\\x03\\x90\\x13\\xc2:7\\xfc\\xba\\xa3\\xf5\\x07r\\x86\\x10\\x7f \\xbd8\\xbc\\xf1\\x9e\\x9b\\xd9\\x9d\\x91x\\x039$,w #8|1\\x9fL\\x1a]\\x91\\xf8\\x029&\\xac\\xc3i\\xbc\\'nW \\x07\\tq\\x052\\x8e\\xc3\\x11\\xf9\\xe1\\x15\\xa2\\x1f\\x12G \\'\\x85u\\x9c\\x11?\\xf4~@&]\\xf2B\\xe2\\x06\\xe4\\xac\\xb0\\xceK\\xcb\\xad\\x07\\xbc\\x80\\x9c&\\xe4\\x02F\\x9c\\xfa\\xc0\\t\\xc8qB\\x9c\\x80\\xac\\xe1p\\xe9\\x85\\x0b\\xa4\\xe5\\x83\\xc4\\x05\\xc8ya\\xf9\\x00Y\\xc7\\xe1\\xd0\\x13WH\\xcb\\xc3\\x1c\\x80x\\x08k\\xbd\\x8e[\\x18YF\\xb2\\x0e\\xe4\\x86H\\x0f\\x0e@\\xbcp\\xac\\xd6s\\x8b\\xb4\\x96\\x91\\xac\\x02\\xb9DX71\\xb2\\xd8\\'\\x8b@\\xae!d\\x11\\x88/\\x8e\\xa5\\xda.\\x92\\xd6\\x1a\\x92% \\xf7\\x08k\\r\\x88?\\x8e\\x85\\x1a\\xaf\\x92\\xd6\\n\\x92\\x05 7\\t\\xeb:F\\xe6{g\\x1e\\xc8]\\x84\\xcc\\x03\\xd9\\x85c\\xb6\\xde\\xdb\\xa45\\x8dd\\x16\\xc8e\\xc2\\xba\\x91\\x91\\xc9>\\x9a\\x04r\\x1d!\\x93@\\xf6\\xe2\\x98\\xaa\\xfdBi\\xcd!\\x99\\x02r\\x9f\\xb0\\xe6\\x80\\xec\\xc71\\xd1\\xc2\\x95\\xd2\\x9aA2\\x01\\xe4Fa]\\xcb\\xc8xo\\x8d\\x03\\xb9\\x93\\x90)F\\xd4\\xdf=\\xf0\\xfe1\\x84\\xd1\\xfe\\x9aj\\xff\\x1bR\\xc6\\\\\\xbb5F\\x86m\\n\\x88\\xd2W\\x1b~fc\\x8c\\xf7\\xd3/\\x0c\\xd4:`\\xa8\\xce\\xc3\\xd2\\xf2#\\xd2)\\xd7\\x9au\\xc8\\xef\\x9f\\xfe\\x1c\\x7f\\xf3\\xc1\\x8b\\x93;\\x93\\xc6\\x89\\x96|\\x18\\x99\\xef\\xd6\\x86\\xab\\xfdH|\\x92\\xc6\\x15\\x8e\\x9c\\xb4\\xe5\\xc2\\xc8\\xc6\\xdfj\\xea\\xee\"\\x8f\\xa4\\xf1\\x8b\\x9f\\xb6j\\xda\\xf1\\x97j\\xb0\\xd1\\x0f\\xbdu\\x0f\\x03\\xf9<\\x8b\\xefl\\xd0\\x81\\x91+\\x945\\x0c\\x04C\\x08\\x00 \\xae\\xcd[\\xf3\\xee\\xbe\\xea\\x07\\x81\\xa4J]YhU\\xd6\\x85dBZP==ec@P\\x1c|b=\\xad\\x8d3\"\\x18X\\x05\\xd5\\x1a\\x80\\xfbl\\x08\\x88\\xe6\\xf2\\'\\xca\\xea\\xe8\\xabaF\\xa0\\xb3b_k78\\x02d\\xd7o\\xcf\\xb8hk\\x94\\x91\\x92\\x90\\xaf\\xc6\\xacfw\\r\\x009\\xbb\\xc5\\xd8j}\\x90\\x11\\x19!>\\xf0\\xd6\\x89\\xed\\x07\\xa2z\\xec\\xa3\\xac\\xae\\xceh\\x14\\x1ac\\xe4\\xcc\\x90\\xd5e\\xdd@\\x84\\xfb\\x10B\\x007T\\x1d\\xd4\\xd6\\x9b\\x1ab\\xa4\\xda\\xda\\x8a\\xca\\xfa\\xba\\xa3Z\\xaa\\x17\\x08\\x8a\\xa3\\xb2\\xda\\xc3\\x8a\\x1ba\\x04\\xca\\x93\\xaf\\x13\\xdfZ_u\\x02\\x91\\x84\\x14g\\xcb\\x98`\\xb1\\x96> (Z\\x01,V\\x89kH\\x90}\\xb4\\x8ai6\\xb3\\xd4MG\\xa0\\x7f\\xb1\\xd3\\xecV\\xba\\x80HB\\xf4z\\x97XY\\xd4\\xd6\\xec\\x9a]\\x85\\xb0\\xc0J\\xa7\\xb6\\xec\\x02=@8!\\x90\\x0e\\xf7\\x8cY\\xb3;\\x113[\\xa6\\x98b\\x9b\\x04\\x8c\\x03\\xaaG[\\xc8\\xcf\\xbb\\xad\\x03\\x08%$ni\\xc9\\xd4\\xc4k\\x1cF\\xf5\\xd0(Am~\\xcb\\x94z\\x0c\\xe2\\xca\\xb0\\xad\\xf6D\\x1b\\x882dA\\xa9\\xac\\xc2\\x97I+\\xb5UsH\\xd8\\xe4vP9\\x89\\xbcg\\xeb\\x9bCsE\\x9a@\\nB\\x8c\\xff\\x95\\x88\\xc3t\\xb8\\xa8\\xad\\xa9\\x97jJe\\x91\\x04\\x12VB\\xa5w6\\xd2J\\xb4\\x80\\x08B\\xe2\\x87\\xb2\\xdf\\x08\\xbc\\x8c\\x87Y}\\xa241\\xb3\\x89-&\\r=\\xf6g\\x8d\\xd4\\xee\\xf7xZ\\x10\\xf2\\xb8\\x0c\\xe1\\rp\\x08\\x92\\xa1\\xd9\\x97\\xa7D\\x87\\xf4S2\\x97\\xfd>H\\xd2\\x15\\xf7\\\\ef\\x0c\\xac\\x03\\xd1\\xd2^\\xa9,\\xf6ew\\xcbk\\x95\\x88\"U \\xca\\x8c\\x97EE\\xa7\\x0e \\xbc,\\xd0c\\xed\\x06tY[Z\\xca\\xf3B\\xaa\\xac\\x9c\\x9d$\\xa5\\x91\\xef\\xc6\\xad\\xbf7\\xca&j@$!\\xa0\\xacq\\xdf\\x0cryQ\\x92\\x8cj\\xab\\x97\\xe1&#r=[*\\x8b\\x7f\\xebah\\x1c\\xd7Z\\xab\\x0017{\\x0b\\xf5 \\x94e\\x17^C\\x93\\xda*+3*o1\\xc2g\\'\\x90T\\x00\\xfd\\xf4\\x1a\\x88\\xa9\\xb6\\xcc\\x1c\\x9b\\x7fa\\x03\\xd1\\x08\\xc1 \\x94\\x85\\xf0\\xc4\\x0e\\x99`\\xd6\\x8d\\xb5mU\\xc9G\\xe9\\x06#\\x8c\\x90\\x18\\xeak\\xe3R\\xd5Tm\\xf55e\\x02Qn7\\x9e!2q9Q\\xd25\\'\\xb2BuFh\\xbf\\xc4\\\\\\xbdP\\x16\\x19r=Ij\\xe5=\\x90\\x8ae\\xb3\\x80H\\xaf0\\xc2\\xe0\\xcaJ!\\x02\\xf6\\x8d\\x83\\x16g\\xd8z=\\xef<\\x90\\xac\\xcaH\\xd1+9\\xd4\\xad\\x9a\\xd7e\\xa5\\xbb\\x0f\\xf2$\\xea\\xf8-o\\x00\\x11\\x15\\xe6nG\\xe0a\\xc1\\x90=\\xb7\\xd9\\xbd\\xd9\\x8f\\x14\\xcdp7\\x16?5Fd\\x96U\\xf2A\\xcf\\xdd&\\x12E[b\\xeb\\t\\x04%:\\x10I\\x08\\xb0\\xcf\\xdc_\\xa4{|b\\xdd\\x18\\x19\\xd91\\x04\\xc0\\xe4BFRa\\xa4\\xc8\\xb2\\xe0\\x9dDX\\xd5,\\xd6\\x9dF\\xdfPhKF+<\\x10\\x1a1\\xd2\\xd8\\xf1\\xe13\\x87}\\x87\\xeeD\\xdb\\x14m\\x95\\x94\\x04\\x0c\\x01 \\x00\\xe4b\\x1a\\x10\\x14\\xed\\xa7^\\xcf\\xca\\x8a\\x97AD\\xc9\\x9e\\x19_\\xf1\\xaf \\xa4\\xff\\xa9.\\x08\\xbf\\x03\\x0b\\x91Z\\xbf\\x8fL2$\\'\\xb4\\xb5\\x15s;\\x08\\x98\\x99S\\x80\\xe8\\x84(\\xca\\x12\\xed\\xe9\\x11\\xc27\\xf2\\xfa\\xcd\\xd4\\x16\\xa1\\xe4=\\xe8}\\xaa\\x0b\\xa5\\xb2\\xe8lNV\\xbaUw{u\\'c\\xb0F\\xc9c\\x12\\x88$$^\\x15\\xca\\x92R\\xf30c\\xbd!)\\xc9\\xb92`\\xe8}\\xf4FC\\x9d\\xd0\\x92a\\x90\\xe8\\xe7m.\\xe1\\xe4\\x19\\x82\\xa0\\x84\\xc7\\xbb\\x00\\xa2\\x12\\xc2\\xf2\\x12V3\\x12\\xadNy\\xabZ1\\xed\\x12\\xc7\\xe8\\t\\x8b\\xf7\\xaeGoI\\x8a\\xa9\\xc3\\xa1\\xf0\\xba<\\xdfc\\x06%\\xe19(\\x81X\\x840e\\xa1\\x8c\\x99\\xc8\\xb2\\xc74B\\x86\\r\\xbb:L_\\xa7N\\xeex\\xf4\\x06\\xc9m\\xed\\x1bf~\\xb4\\xe8\\xda*d\\xf0\\xc8:\\xc6{\\x01D#\\x04\\x93r\\x88\\xe3\\\\L\\xfd<\\x0cB-\\xc2]\\xc9\\x1dS\\xf3\\xd05j\\x01\\xfd\\x9b\\x8dP\\xd8X\\xcaMI\\xcd\\xbaI[$\\xe5\\xed\\x8a\\x9fRT\\xcc\\xdcRYl\\xf3\\x07\\xd2\\x9f\\xb4\\xaew0M[\\xd2\\xb1\\xd8\\xaf\\xbd\\xf3\\x88\\xb6A\\xa2\\x8d\\xc7\\x1b\\x8c/\\xaf\\x0c\\xaa \\x94\\xc3\\xafFH1\\xf4B\\xccOT\\x86\\xe4\\xf1\\xba\\xb1P\\xb4(\\t\\x1c\\x88\\xbe\\x0cIl \\x8fn\\x12\"\\xf8^\\\\w<9\\xc2\\x17\\x0c\\xb6\\x87i\\x08\\x96\\xd2\\x12Y\\x16X\\xb2\\xb7\\xb6\\x81=\\xad\\x90\\x93\\x92x\\xc7x\\xff\\xd1\\xeb\\xd2r\\xa8\\xbf\\xca\\x82\\xb8\\xf4W\\xd6\\x89[\\xacU}T\\xbe`D\\xb9\\x8f\\x87:\\xb2\\xb3\\\\\\xc2\\x15\\x0e*G\\xf1TN\\x91\\x0f%?\\xeb\\x96\\xe7\\x1a\\xb0I\\x84\\x14\\xd5v\\xb2;\\x86\\xb1\\x81 \\x8a\\x95\\x95\\xda\\x125\\x18+D\\x99e\\x91I$*\\x8bp\\x14c\\xbd7q\\x9f\\xa2\\x8d\\x8d\\xfa\\x92\\x928+\\xfe\\xdek\\xaa!He\\x81\\xba\\xa4r\\x1du-mi\\x99\\x04\\xa0\\x92\\xc6\\x97\\xb3\\x03\\xa8!\\xa1\\xdf\\xe2\\xf7\\xc6?\\xab\\x98?}\\x05\\x01\\xac\\xc8~m\\x1f\\x80)+\\x96\\xe5\\xc8\\xba\\x15\\xb3\\x8eTy\\xde\\x00\\x01\\xc5zD\\xa4\\xbd\\xc5Vi,D\\x87bq\\xa7/-4M\\xcd\\r\\xf1\\xd9\\x9e1\\xa2\\xb7\\x8el\\x12\\xe1\\xd7\\xf3\\xcc;6\\xa1\\xf7\\x92\\xf7N\\xee\\xc5M($\\xfc$*\\xbf\\xe2\\x92p\\x17\\xe8ynCm\\xfb\\x83$2\\x9aX\\x0b%i\\xd5\\x08\\x89GO1\\xa2\\xb4\\x14\\x8b\\xfenf{^\\xceE1P)y\\x0b[X\\xe9>1ea\\x0e\\x11\\x82\\x1e\\xd8Y\\xad\\xae\\x013\\xb7\\x82\\xb0\\x98Lh\\x8ab\\xa5\\xbdBY@\\xbe)\\xbd\\x85 .9\\xd0\\xa5\\xd7\\xa0P\\xf2\\xe3\\xa7\\xd40O\"od\\x03\\xb0\\xc8\\xcf\\x81.H1\\xd7@\\x13VhK\\xa5\\x04~V\\xa3\\x89\\x10%\\x84\\xe5\\x0bB\\xdbM8\\xf1\\xee\\n>\\x8f\\x95\\xf1\\x97\\xafY\\x84\\x94\\xd5\\xb1,xc\\xac\\x1bn\\x85\\xc0v\\x08\\xf3{\\xc8\\xad\\x17\\x06\\x10\\xa2\\xb2\\xd8\\x94\\xa8\\x84H\\xf9\\x10\\xc8\\xd3\\xe4LF]|(\\xf9\\x19\\xc8\\xbbv\\xda\\x8d\\xf8\\xb0\\xcd\\x8d\\xbfW-\\x89\\x12\\xfb]\\x94w\\xf6\\x96i\\x8a\\x92\\x90\\xf8k\\x8c\\xf4\\xb0\\xb6t\\x7f\\x17\\xa8\\x10\\xf0\\x9dG\\x0cB\\xde\\x11\\xcbv\\x14wFJ4\\xa9-((1\\xdfE\\xe9[*Cq\\xa5q\\x97_\\x00\\x91\\x11\\x18\\xe8.\\x8a$$\\xcf\\x80Z\\x02\\xac\\xdd\\xb3\\xcd\\x944\\x05\\x83\\xa0\\xc4z\\x17\\xa5\\x90\\x94J\\xd0G\\x03p\\xb4\\xa2\\x9d\\x92\\x92\\x9f\\xe9LW2K\\x96\\xa4\\xd3u\\xcc\\x98\\xa4D\\x7f\\xf3\\x81\\x8c\\xbd\\x86\\xb2\\x1a[\\x806\\x80\\thf\\nL)\\xf9\\xa9\\x95\\x97\\x8fD\\xb4\\x9eMK5\\xf4\\xdf\\xd6\\xcan\\x88\\x06\\xf5\\xefQ\\xdd2e\\xab\\x8da\\x0f?\\xc8\\xbbr;@)\\xf9\\x05\\x83\\x10~`\\xd5e.b\\x8a\\xcf5c3\\xda{\\x95\\xee\\x19\\xc9-S\\xd5-\\xeb1B\\x99\\xb8\\xd3|l\\xc0\\xd1\\x19{\\xc2\\xfd\\xa5\\xe4\\xa7\\xa6\\xbd\\xeb\\xe6\\x83\\xa3N(\\xa3\\xc4\\x8a\\x11v\\xa0y\\x05\\xf4:\\x16\\xfbE\\xde\\xa6i\\x8b\\x8d\\xc0\\x01\\xfe\\x00\\x82\\x8dMAe\\x97l\\xbe\\x00\\x00\\x00\\x00IEND\\xaeB`\\x82']\n"
     ]
    },
    {
     "ename": "UnidentifiedImageError",
     "evalue": "cannot identify image file <_io.BytesIO object at 0x000002894127A9F0>",
     "output_type": "error",
     "traceback": [
      "\u001b[1;31m---------------------------------------------------------------------------\u001b[0m",
      "\u001b[1;31mUnidentifiedImageError\u001b[0m                    Traceback (most recent call last)",
      "\u001b[1;32m~\\AppData\\Local\\Temp\\ipykernel_12364\\2194559190.py\u001b[0m in \u001b[0;36m<module>\u001b[1;34m\u001b[0m\n\u001b[0;32m     25\u001b[0m     \u001b[0mvalue\u001b[0m \u001b[1;33m=\u001b[0m \u001b[1;33m[\u001b[0m\u001b[0mtxn\u001b[0m\u001b[1;33m.\u001b[0m\u001b[0mget\u001b[0m\u001b[1;33m(\u001b[0m\u001b[0mkey\u001b[0m\u001b[1;33m=\u001b[0m\u001b[0mkey\u001b[0m\u001b[1;33m)\u001b[0m \u001b[1;32mfor\u001b[0m \u001b[0mkey\u001b[0m \u001b[1;32min\u001b[0m \u001b[0mgtmaps_key\u001b[0m\u001b[1;33m]\u001b[0m\u001b[1;33m\u001b[0m\u001b[1;33m\u001b[0m\u001b[0m\n\u001b[0;32m     26\u001b[0m     \u001b[0mprint\u001b[0m\u001b[1;33m(\u001b[0m\u001b[0mvalue\u001b[0m\u001b[1;33m)\u001b[0m\u001b[1;33m\u001b[0m\u001b[1;33m\u001b[0m\u001b[0m\n\u001b[1;32m---> 27\u001b[1;33m     \u001b[0mgtmaps\u001b[0m \u001b[1;33m=\u001b[0m \u001b[1;33m[\u001b[0m\u001b[0mImage\u001b[0m\u001b[1;33m.\u001b[0m\u001b[0mopen\u001b[0m\u001b[1;33m(\u001b[0m\u001b[0mio\u001b[0m\u001b[1;33m.\u001b[0m\u001b[0mBytesIO\u001b[0m\u001b[1;33m(\u001b[0m\u001b[0mim\u001b[0m\u001b[1;33m)\u001b[0m\u001b[1;33m)\u001b[0m \u001b[1;32mfor\u001b[0m \u001b[0mim\u001b[0m \u001b[1;32min\u001b[0m \u001b[0mvalue\u001b[0m\u001b[1;33m]\u001b[0m\u001b[1;33m\u001b[0m\u001b[1;33m\u001b[0m\u001b[0m\n\u001b[0m\u001b[0;32m     28\u001b[0m     \u001b[0mprint\u001b[0m\u001b[1;33m(\u001b[0m\u001b[0mgtmaps\u001b[0m\u001b[1;33m)\u001b[0m\u001b[1;33m\u001b[0m\u001b[1;33m\u001b[0m\u001b[0m\n\u001b[0;32m     29\u001b[0m \u001b[1;33m\u001b[0m\u001b[0m\n",
      "\u001b[1;32m~\\AppData\\Local\\Temp\\ipykernel_12364\\2194559190.py\u001b[0m in \u001b[0;36m<listcomp>\u001b[1;34m(.0)\u001b[0m\n\u001b[0;32m     25\u001b[0m     \u001b[0mvalue\u001b[0m \u001b[1;33m=\u001b[0m \u001b[1;33m[\u001b[0m\u001b[0mtxn\u001b[0m\u001b[1;33m.\u001b[0m\u001b[0mget\u001b[0m\u001b[1;33m(\u001b[0m\u001b[0mkey\u001b[0m\u001b[1;33m=\u001b[0m\u001b[0mkey\u001b[0m\u001b[1;33m)\u001b[0m \u001b[1;32mfor\u001b[0m \u001b[0mkey\u001b[0m \u001b[1;32min\u001b[0m \u001b[0mgtmaps_key\u001b[0m\u001b[1;33m]\u001b[0m\u001b[1;33m\u001b[0m\u001b[1;33m\u001b[0m\u001b[0m\n\u001b[0;32m     26\u001b[0m     \u001b[0mprint\u001b[0m\u001b[1;33m(\u001b[0m\u001b[0mvalue\u001b[0m\u001b[1;33m)\u001b[0m\u001b[1;33m\u001b[0m\u001b[1;33m\u001b[0m\u001b[0m\n\u001b[1;32m---> 27\u001b[1;33m     \u001b[0mgtmaps\u001b[0m \u001b[1;33m=\u001b[0m \u001b[1;33m[\u001b[0m\u001b[0mImage\u001b[0m\u001b[1;33m.\u001b[0m\u001b[0mopen\u001b[0m\u001b[1;33m(\u001b[0m\u001b[0mio\u001b[0m\u001b[1;33m.\u001b[0m\u001b[0mBytesIO\u001b[0m\u001b[1;33m(\u001b[0m\u001b[0mim\u001b[0m\u001b[1;33m)\u001b[0m\u001b[1;33m)\u001b[0m \u001b[1;32mfor\u001b[0m \u001b[0mim\u001b[0m \u001b[1;32min\u001b[0m \u001b[0mvalue\u001b[0m\u001b[1;33m]\u001b[0m\u001b[1;33m\u001b[0m\u001b[1;33m\u001b[0m\u001b[0m\n\u001b[0m\u001b[0;32m     28\u001b[0m     \u001b[0mprint\u001b[0m\u001b[1;33m(\u001b[0m\u001b[0mgtmaps\u001b[0m\u001b[1;33m)\u001b[0m\u001b[1;33m\u001b[0m\u001b[1;33m\u001b[0m\u001b[0m\n\u001b[0;32m     29\u001b[0m \u001b[1;33m\u001b[0m\u001b[0m\n",
      "\u001b[1;32mc:\\Users\\Admin\\anaconda3\\lib\\site-packages\\PIL\\Image.py\u001b[0m in \u001b[0;36mopen\u001b[1;34m(fp, mode, formats)\u001b[0m\n\u001b[0;32m   3184\u001b[0m     \u001b[1;32mfor\u001b[0m \u001b[0mmessage\u001b[0m \u001b[1;32min\u001b[0m \u001b[0maccept_warnings\u001b[0m\u001b[1;33m:\u001b[0m\u001b[1;33m\u001b[0m\u001b[1;33m\u001b[0m\u001b[0m\n\u001b[0;32m   3185\u001b[0m         \u001b[0mwarnings\u001b[0m\u001b[1;33m.\u001b[0m\u001b[0mwarn\u001b[0m\u001b[1;33m(\u001b[0m\u001b[0mmessage\u001b[0m\u001b[1;33m)\u001b[0m\u001b[1;33m\u001b[0m\u001b[1;33m\u001b[0m\u001b[0m\n\u001b[1;32m-> 3186\u001b[1;33m     raise UnidentifiedImageError(\n\u001b[0m\u001b[0;32m   3187\u001b[0m         \u001b[1;34m\"cannot identify image file %r\"\u001b[0m \u001b[1;33m%\u001b[0m \u001b[1;33m(\u001b[0m\u001b[0mfilename\u001b[0m \u001b[1;32mif\u001b[0m \u001b[0mfilename\u001b[0m \u001b[1;32melse\u001b[0m \u001b[0mfp\u001b[0m\u001b[1;33m)\u001b[0m\u001b[1;33m\u001b[0m\u001b[1;33m\u001b[0m\u001b[0m\n\u001b[0;32m   3188\u001b[0m     )\n",
      "\u001b[1;31mUnidentifiedImageError\u001b[0m: cannot identify image file <_io.BytesIO object at 0x000002894127A9F0>"
     ]
    }
   ],
   "source": [
    "classes=[\n",
    "            \"drivable_area\",\n",
    "            \"ped_crossing\",\n",
    "            \"walkway\",\n",
    "            \"carpark_area\",\n",
    "            \"road_segment\",\n",
    "            \"lane\",\n",
    "            \"bus\",\n",
    "            \"bicycle\",\n",
    "            \"car\",\n",
    "            \"construction_vehicle\",\n",
    "            \"motorcycle\",\n",
    "            \"trailer\",\n",
    "            \"truck\",\n",
    "            \"pedestrian\",\n",
    "            \"trafficcone\",\n",
    "            \"barrier\",\n",
    "        ],\n",
    "classes = list(classes)\n",
    "classes.append(\"lidar_ray_mask_dense\")\n",
    "\n",
    "gtmaps_key = [pickle.dumps(\"{}___{}\".format(id, cls),protocol=3) for cls in classes]\n",
    "\n",
    "with gtmaps_db.begin() as txn:\n",
    "    value = [txn.get(key=key) for key in gtmaps_key]\n",
    "    print(value)\n",
    "    gtmaps = [Image.open(io.BytesIO(im)) for im in value]\n",
    "    print(gtmaps)\n",
    "    "
   ]
  },
  {
   "cell_type": "code",
   "execution_count": 22,
   "metadata": {},
   "outputs": [
    {
     "name": "stdout",
     "output_type": "stream",
     "text": [
      "[None, None]\n"
     ]
    },
    {
     "ename": "UnidentifiedImageError",
     "evalue": "cannot identify image file <_io.BytesIO object at 0x000002894127AEF0>",
     "output_type": "error",
     "traceback": [
      "\u001b[1;31m---------------------------------------------------------------------------\u001b[0m",
      "\u001b[1;31mUnidentifiedImageError\u001b[0m                    Traceback (most recent call last)",
      "\u001b[1;32m~\\AppData\\Local\\Temp\\ipykernel_12364\\3081488268.py\u001b[0m in \u001b[0;36m<module>\u001b[1;34m\u001b[0m\n\u001b[0;32m      2\u001b[0m     \u001b[0mvalue\u001b[0m \u001b[1;33m=\u001b[0m \u001b[1;33m[\u001b[0m\u001b[0mtxn\u001b[0m\u001b[1;33m.\u001b[0m\u001b[0mget\u001b[0m\u001b[1;33m(\u001b[0m\u001b[0mkey\u001b[0m\u001b[1;33m=\u001b[0m\u001b[0mkey\u001b[0m\u001b[1;33m)\u001b[0m \u001b[1;32mfor\u001b[0m \u001b[0mkey\u001b[0m \u001b[1;32min\u001b[0m \u001b[0mgtmaps_key\u001b[0m\u001b[1;33m]\u001b[0m\u001b[1;33m\u001b[0m\u001b[1;33m\u001b[0m\u001b[0m\n\u001b[0;32m      3\u001b[0m     \u001b[0mprint\u001b[0m\u001b[1;33m(\u001b[0m\u001b[0mvalue\u001b[0m\u001b[1;33m)\u001b[0m\u001b[1;33m\u001b[0m\u001b[1;33m\u001b[0m\u001b[0m\n\u001b[1;32m----> 4\u001b[1;33m     \u001b[0mgtmaps\u001b[0m \u001b[1;33m=\u001b[0m \u001b[1;33m[\u001b[0m\u001b[0mImage\u001b[0m\u001b[1;33m.\u001b[0m\u001b[0mopen\u001b[0m\u001b[1;33m(\u001b[0m\u001b[0mio\u001b[0m\u001b[1;33m.\u001b[0m\u001b[0mBytesIO\u001b[0m\u001b[1;33m(\u001b[0m\u001b[0mim\u001b[0m\u001b[1;33m)\u001b[0m\u001b[1;33m)\u001b[0m \u001b[1;32mfor\u001b[0m \u001b[0mim\u001b[0m \u001b[1;32min\u001b[0m \u001b[0mvalue\u001b[0m\u001b[1;33m]\u001b[0m\u001b[1;33m\u001b[0m\u001b[1;33m\u001b[0m\u001b[0m\n\u001b[0m\u001b[0;32m      5\u001b[0m     \u001b[0mprint\u001b[0m\u001b[1;33m(\u001b[0m\u001b[0mgtmaps\u001b[0m\u001b[1;33m)\u001b[0m\u001b[1;33m\u001b[0m\u001b[1;33m\u001b[0m\u001b[0m\n",
      "\u001b[1;32m~\\AppData\\Local\\Temp\\ipykernel_12364\\3081488268.py\u001b[0m in \u001b[0;36m<listcomp>\u001b[1;34m(.0)\u001b[0m\n\u001b[0;32m      2\u001b[0m     \u001b[0mvalue\u001b[0m \u001b[1;33m=\u001b[0m \u001b[1;33m[\u001b[0m\u001b[0mtxn\u001b[0m\u001b[1;33m.\u001b[0m\u001b[0mget\u001b[0m\u001b[1;33m(\u001b[0m\u001b[0mkey\u001b[0m\u001b[1;33m=\u001b[0m\u001b[0mkey\u001b[0m\u001b[1;33m)\u001b[0m \u001b[1;32mfor\u001b[0m \u001b[0mkey\u001b[0m \u001b[1;32min\u001b[0m \u001b[0mgtmaps_key\u001b[0m\u001b[1;33m]\u001b[0m\u001b[1;33m\u001b[0m\u001b[1;33m\u001b[0m\u001b[0m\n\u001b[0;32m      3\u001b[0m     \u001b[0mprint\u001b[0m\u001b[1;33m(\u001b[0m\u001b[0mvalue\u001b[0m\u001b[1;33m)\u001b[0m\u001b[1;33m\u001b[0m\u001b[1;33m\u001b[0m\u001b[0m\n\u001b[1;32m----> 4\u001b[1;33m     \u001b[0mgtmaps\u001b[0m \u001b[1;33m=\u001b[0m \u001b[1;33m[\u001b[0m\u001b[0mImage\u001b[0m\u001b[1;33m.\u001b[0m\u001b[0mopen\u001b[0m\u001b[1;33m(\u001b[0m\u001b[0mio\u001b[0m\u001b[1;33m.\u001b[0m\u001b[0mBytesIO\u001b[0m\u001b[1;33m(\u001b[0m\u001b[0mim\u001b[0m\u001b[1;33m)\u001b[0m\u001b[1;33m)\u001b[0m \u001b[1;32mfor\u001b[0m \u001b[0mim\u001b[0m \u001b[1;32min\u001b[0m \u001b[0mvalue\u001b[0m\u001b[1;33m]\u001b[0m\u001b[1;33m\u001b[0m\u001b[1;33m\u001b[0m\u001b[0m\n\u001b[0m\u001b[0;32m      5\u001b[0m     \u001b[0mprint\u001b[0m\u001b[1;33m(\u001b[0m\u001b[0mgtmaps\u001b[0m\u001b[1;33m)\u001b[0m\u001b[1;33m\u001b[0m\u001b[1;33m\u001b[0m\u001b[0m\n",
      "\u001b[1;32mc:\\Users\\Admin\\anaconda3\\lib\\site-packages\\PIL\\Image.py\u001b[0m in \u001b[0;36mopen\u001b[1;34m(fp, mode, formats)\u001b[0m\n\u001b[0;32m   3184\u001b[0m     \u001b[1;32mfor\u001b[0m \u001b[0mmessage\u001b[0m \u001b[1;32min\u001b[0m \u001b[0maccept_warnings\u001b[0m\u001b[1;33m:\u001b[0m\u001b[1;33m\u001b[0m\u001b[1;33m\u001b[0m\u001b[0m\n\u001b[0;32m   3185\u001b[0m         \u001b[0mwarnings\u001b[0m\u001b[1;33m.\u001b[0m\u001b[0mwarn\u001b[0m\u001b[1;33m(\u001b[0m\u001b[0mmessage\u001b[0m\u001b[1;33m)\u001b[0m\u001b[1;33m\u001b[0m\u001b[1;33m\u001b[0m\u001b[0m\n\u001b[1;32m-> 3186\u001b[1;33m     raise UnidentifiedImageError(\n\u001b[0m\u001b[0;32m   3187\u001b[0m         \u001b[1;34m\"cannot identify image file %r\"\u001b[0m \u001b[1;33m%\u001b[0m \u001b[1;33m(\u001b[0m\u001b[0mfilename\u001b[0m \u001b[1;32mif\u001b[0m \u001b[0mfilename\u001b[0m \u001b[1;32melse\u001b[0m \u001b[0mfp\u001b[0m\u001b[1;33m)\u001b[0m\u001b[1;33m\u001b[0m\u001b[1;33m\u001b[0m\u001b[0m\n\u001b[0;32m   3188\u001b[0m     )\n",
      "\u001b[1;31mUnidentifiedImageError\u001b[0m: cannot identify image file <_io.BytesIO object at 0x000002894127AEF0>"
     ]
    }
   ],
   "source": [
    "with gtmaps_db.begin() as txn:\n",
    "    value = [txn.get(key=key) for key in gtmaps_key]\n",
    "    print(value)\n",
    "    gtmaps = [Image.open(io.BytesIO(im)) for im in value]\n",
    "    print(gtmaps)"
   ]
  },
  {
   "cell_type": "code",
   "execution_count": null,
   "metadata": {},
   "outputs": [],
   "source": []
  }
 ],
 "metadata": {
  "kernelspec": {
   "display_name": "base",
   "language": "python",
   "name": "python3"
  },
  "language_info": {
   "codemirror_mode": {
    "name": "ipython",
    "version": 3
   },
   "file_extension": ".py",
   "mimetype": "text/x-python",
   "name": "python",
   "nbconvert_exporter": "python",
   "pygments_lexer": "ipython3",
   "version": "3.9.12"
  },
  "orig_nbformat": 4
 },
 "nbformat": 4,
 "nbformat_minor": 2
}
